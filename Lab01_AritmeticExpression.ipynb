{
 "cells": [
  {
   "cell_type": "markdown",
   "id": "5734926f-3679-4cc0-8022-b4e8e96ac066",
   "metadata": {
    "panel-layout": {
     "height": 110.8455810546875,
     "visible": true,
     "width": 100
    }
   },
   "source": [
    "<h1 align = 'center' style = \"font-size:  xxx-large;\">\n",
    "Artimetic Expression\n",
    "</h1>"
   ]
  },
  {
   "cell_type": "markdown",
   "id": "12a0ab11-ce49-4cca-bd7e-3e12f2a95f82",
   "metadata": {
    "panel-layout": {
     "height": 156.02940368652344,
     "visible": true,
     "width": 100
    }
   },
   "source": [
    "# Content Learning Objectives\n",
    "\n",
    "#### After completing this activity, students should be able to:\n",
    "\n",
    "* #### Execute mathematical expressions similar to a calulator\n",
    "* #### Describe the functions of the three Python division operators\n",
    "* #### Explain the differences between integers and floating-point data\n"
   ]
  },
  {
   "cell_type": "markdown",
   "id": "02123d38-c5c6-4b08-9738-53851d9f9ce4",
   "metadata": {
    "panel-layout": {
     "height": 121.80146789550781,
     "visible": true,
     "width": 100
    }
   },
   "source": [
    "# Processing Skill Goals\n",
    "#### During the activity, students should make progress towards:\n",
    "* #### Recognizing mathematical operations based on tables (Information Processing)"
   ]
  },
  {
   "cell_type": "markdown",
   "id": "08517b51-10fe-4d28-96da-ccf94a9c941c",
   "metadata": {},
   "source": [
    "# Atmospheric Sciences Concepts\n",
    "#### Scientific programming is a very important skill for this field. This class will set the basis for all of your future programming. These skills will be essential for classes like *Computer Concepts in Meteorology* (ATSC 270), *Remote Sensing of the Atmosphere* (ATSC 345), *Physical Meteorology* (ATSC 353), etc. Pretty much every ATSC class after ATSC 110 will have some form of scientific programming involved. \n",
    "\n",
    "#### This means that it is important you understand the basic of computer science and coding with Python. This will make upper level classes much easier, less stressful, and less time consuming. Actually learning the basics now will set you up to be as successful as possible later.\n",
    "\n",
    "## Importance to Atmospheric Sciences\n",
    " *  Math is the foundation of all Atmospheric Sciences and is used for:\n",
    "   - #### Temperature Conversions\n",
    "   - #### The Ideal Gas Law\n",
    "   - #### Wind Speed Conversions\n",
    "   - #### Wind Direction Conversions\n",
    "   - #### Atmospheric Dynamics\n",
    "   - #### Potential Temperature Calculations\n",
    "   - #### Numerical Weather Prediction\n",
    "   - #### Much, much more!!!"
   ]
  },
  {
   "cell_type": "markdown",
   "id": "f7f79a5f-3364-4e74-bf6f-72cc1046e1c3",
   "metadata": {
    "panel-layout": {
     "height": 110.8455810546875,
     "visible": true,
     "width": 100
    }
   },
   "source": [
    "<h1 align = 'center' style = 'font-size: xxx-large;'>\n",
    "Part 1 Python Calculator\n",
    "</h1>"
   ]
  },
  {
   "cell_type": "markdown",
   "id": "a13264fc-80ac-4130-b864-36a276c8f500",
   "metadata": {
    "panel-layout": {
     "height": 50.4411735534668,
     "visible": true,
     "width": 100
    }
   },
   "source": [
    "#### Open a Jupyter Console by clicking the \"+\" next to the Lab_01.ipynb tab at the top of the screen. Next click the \"Python 3 (ipykernal)\" under \"Console\" to start the Console."
   ]
  },
  {
   "cell_type": "markdown",
   "id": "1f356b7f-9d3b-4b53-b5ca-fb85a994d87c",
   "metadata": {
    "panel-layout": {
     "height": 128.30882263183594,
     "visible": true,
     "width": 100
    }
   },
   "source": [
    "#### There will be an empty textbox on the bottom of the screen. This textbox has a flashing cursor as a prompt indicating that the interpreter is waiting for input. All text entered after the ***prompt*** will be executed immediately as Python code.\n",
    "\n",
    "#### If you type a Python ***expression*** (code that results in a value) after the prompt, Python will show the value of that expression, similar to a calculator. You can use Python’s *math* module to perform more complex mathematical operations like logarithms and trigonometric operations.\n",
    "\n",
    "### Read the questions first! Do not add to the table yet!"
   ]
  },
  {
   "cell_type": "markdown",
   "id": "92bbcf30-52df-4154-99bf-9790180a31c8",
   "metadata": {
    "panel-layout": {
     "height": 536.4705810546875,
     "visible": true,
     "width": 100
    }
   },
   "source": [
    "| Python Code          | Predicted Output | Actual Output |\n",
    "|----------------------|------------------|---------------|\n",
    "| 2 + 3                |                  |               |\n",
    "| 3 * 4 + 2            |                  |               |\n",
    "| 3 * 4 + 2.0          |                  |               |\n",
    "| 3(4 + 2)             |                  |               |\n",
    "| 3 * (4 + 2)          |                  |               |\n",
    "| 5 / 10               |                  |               |\n",
    "| 5 / 10.0             |                  |               |\n",
    "| 5 / 9                |                  |               |\n",
    "| 2 ** 4               |                  |               |\n",
    "| abs(-2) ** 4         |                  |               |\n",
    "| math.pow(2,4)        |                  |               |\n",
    "| import math          |                  |               |\n",
    "| math.pow(2,4)        |                  |               |\n",
    "| sqrt(4)              |                  |               |\n",
    "| math.sqrt(4)         |                  |               |\n",
    "| math.cos(0)          |                  |               |\n",
    "| math.pi              |                  |               |\n",
    "| math.sin(math.pi / 2)|                  |               |"
   ]
  },
  {
   "cell_type": "markdown",
   "id": "4ef5578b-cd9f-4c1e-83ee-edee5cc977bc",
   "metadata": {
    "panel-layout": {
     "height": 81.58087921142578,
     "visible": true,
     "width": 100
    }
   },
   "source": [
    "<h2 style = 'font-size: xx-large;'>\n",
    "Questions\n",
    "</h2>"
   ]
  },
  {
   "cell_type": "markdown",
   "id": "de6f6ed8-fb61-4c67-97d3-60b601396974",
   "metadata": {
    "panel-layout": {
     "height": 84.02572631835938,
     "visible": true,
     "width": 100
    }
   },
   "source": [
    "#### 1. In the middle “Predicted output” column, write what value you expect will be displayed, based on your experience using a calculator. If there are any lines you are not confident about, place an asterisk next to your predicted output. Double click on table to edit."
   ]
  },
  {
   "cell_type": "markdown",
   "id": "1875df62-bd4c-41f1-b022-3fd318fae5f0",
   "metadata": {
    "panel-layout": {
     "height": 84.02572631835938,
     "visible": true,
     "width": 100
    }
   },
   "source": [
    "#### 2. In the Jupyter Console type each Python expression at the prompt, one line at a time, and write the corresponding Python output in the third column above. If an error occurs, write what type of error it was (i.e., the first word of the last line of the error message)."
   ]
  },
  {
   "cell_type": "markdown",
   "id": "49e15c0b-0470-4375-8692-6205e5e4f187",
   "metadata": {
    "panel-layout": {
     "height": 51.084556579589844,
     "visible": true,
     "width": 100
    }
   },
   "source": [
    "#### 3. What does the ** operator do?"
   ]
  },
  {
   "cell_type": "markdown",
   "id": "ebe27b21-5e5c-426f-90d6-f1ca39111dd8",
   "metadata": {},
   "source": []
  },
  {
   "cell_type": "markdown",
   "id": "b58d3941-a9d3-4a78-ae10-fd48e9273415",
   "metadata": {
    "panel-layout": {
     "height": 9.999998092651367,
     "visible": true,
     "width": 100
    }
   },
   "source": [
    "#### 4. Based on the Python code in Part 1, identify four examples of:\n",
    "#### $\\;\\;\\;\\;\\;\\;$ a) mathematical operator"
   ]
  },
  {
   "cell_type": "markdown",
   "id": "41dea57d-7b17-43e8-8899-4f7459f4925b",
   "metadata": {},
   "source": []
  },
  {
   "cell_type": "markdown",
   "id": "8b1d20c7-e0d0-4040-9b98-5bb2554f7044",
   "metadata": {
    "panel-layout": {
     "height": 9.999998092651367,
     "visible": true,
     "width": 100
    }
   },
   "source": [
    "#### $\\;\\;\\;\\;\\;\\;$b) mathematical function"
   ]
  },
  {
   "cell_type": "markdown",
   "id": "5f336ef7-6f30-41ea-925f-8145c66a11e9",
   "metadata": {},
   "source": []
  },
  {
   "cell_type": "markdown",
   "id": "e98f176a-4517-4a28-b3b8-ae2ba3f027db",
   "metadata": {},
   "source": [
    "#### 5. For addition and multiplication to produce an output with a decimal value, what type of number must be part of the input? Provide justification for your answer."
   ]
  },
  {
   "cell_type": "markdown",
   "id": "c8fd577f-4d6e-423c-a940-84c76558b0c7",
   "metadata": {},
   "source": []
  },
  {
   "cell_type": "markdown",
   "id": "765810b0-eb28-4534-88b8-ad0a0c27be1e",
   "metadata": {},
   "source": [
    "#### 6. Does division follow the same rule as in #5? Provide justification for your answer."
   ]
  },
  {
   "cell_type": "markdown",
   "id": "557a4cfc-aadf-4b0b-9581-fb7e465f3c79",
   "metadata": {},
   "source": []
  },
  {
   "cell_type": "markdown",
   "id": "879a5829-324d-4948-a09d-565946ae200b",
   "metadata": {},
   "source": [
    "#### 7. The output of Part 1 displayed three different errors. Explain the reason for each:\n",
    "#### $\\;\\;\\;\\;\\;\\;$ a) TypeError"
   ]
  },
  {
   "cell_type": "markdown",
   "id": "e961163e-c58f-4912-b7af-c6f72c629daa",
   "metadata": {},
   "source": []
  },
  {
   "cell_type": "markdown",
   "id": "eef0613d-5407-4908-90bd-1b1b5a9aafeb",
   "metadata": {},
   "source": [
    "#### $\\;\\;\\;\\;\\;\\;$ b) 1st NameError"
   ]
  },
  {
   "cell_type": "markdown",
   "id": "2f6b0ad6-dc53-402f-9a2f-e0e72f979634",
   "metadata": {},
   "source": []
  },
  {
   "cell_type": "markdown",
   "id": "369e76fd-8c6c-46b3-b5c9-d863c08dd0fb",
   "metadata": {},
   "source": [
    "#### $\\;\\;\\;\\;\\;\\;$ 2nd NameError"
   ]
  },
  {
   "cell_type": "markdown",
   "id": "720dc53b-f569-48b9-ab90-600d9adeaec9",
   "metadata": {},
   "source": []
  },
  {
   "cell_type": "markdown",
   "id": "c0fbc68e-cccf-489a-a378-fc603683cf1a",
   "metadata": {},
   "source": [
    "#### 8. Identify two differences between using a Python built-in function (e.g., abs) and a function from the math module."
   ]
  },
  {
   "cell_type": "markdown",
   "id": "6007832b-778f-4d52-aba2-2049dfd84493",
   "metadata": {},
   "source": []
  },
  {
   "cell_type": "markdown",
   "id": "6ab38aff-0af6-4ebe-9af3-c595a07c2bb6",
   "metadata": {},
   "source": [
    "# Atmospheric Sciences Questions"
   ]
  },
  {
   "cell_type": "markdown",
   "id": "4af18f18-a6fc-4043-b93a-5df9b48c5838",
   "metadata": {},
   "source": [
    "#### 1a. To convert temperatures from Farenheit to Celsius the equation $ c = 5/9 * (F - 32)$ is used. Use the code cell below to convert from Farenheit to Celsius (make sure each conversion equation is shown when you're done). Fill the table with your results rounded to 2 decimals."
   ]
  },
  {
   "cell_type": "code",
   "execution_count": null,
   "id": "a4784bb7-49e4-44be-ac2b-d5fe7f553c11",
   "metadata": {},
   "outputs": [],
   "source": [
    "\n"
   ]
  },
  {
   "cell_type": "markdown",
   "id": "88fd464c-0c35-4bd7-bffd-148e783f92ec",
   "metadata": {},
   "source": [
    "#### 1b. Converting from Celsius to Farenheit uses the equation $ F = (c * 9/5) + 32$. Use the code cell below to convert from Celsius to Farenheit. Fill the table with your resutls rounded to 2 decimals."
   ]
  },
  {
   "cell_type": "code",
   "execution_count": null,
   "id": "7ddf1327-431f-410b-a948-41465bab3e3e",
   "metadata": {},
   "outputs": [],
   "source": []
  },
  {
   "cell_type": "markdown",
   "id": "8b198d2f-47e9-48fa-8fbe-aca9234a41cf",
   "metadata": {},
   "source": [
    "| Farenheit | Celsius |\n",
    "|-----------|---------|\n",
    "| **32**        |         |\n",
    "| **100**       |         |\n",
    "| **212**       |         |\n",
    "| **-40**       |         |\n",
    "| **57.6**      |         |\n",
    "| **14.9**      |         |\n",
    "|           |**32**       |\n",
    "|           |**20.5**     |\n",
    "|           |**-10**      |\n",
    "|           |**13**       |\n",
    "|           |**0**        |\n",
    "|           |**57.6**    |"
   ]
  },
  {
   "cell_type": "markdown",
   "id": "d3e84afc-523e-4a85-b6ef-576f98f13045",
   "metadata": {},
   "source": [
    "#### The Ideal Gas Law is the equation of state of a hypotetical ideal gas. It is regularly used to describe the behavior of the atmosphere. It is made up of 5 variables: P = Pressure (Pa), V = Volume (m$^3$), n = Number of Moles (mol), R = Gas Constant (8.314 m$^3$ Pa K$^{-1}$ mol$^{-1}$), T = Temperature ($^o$K). The Ideal Gas Law equation can be rearranged to find any of these variables.\n",
    "## $ PV =nRT$\n",
    "#### 2. Using the code cell below, use the Ideal Gas Law equation to fill in the table rounding answers to 2 decimal points."
   ]
  },
  {
   "cell_type": "code",
   "execution_count": null,
   "id": "8fe39ff0-4538-4252-a54f-bf05c73e2aaf",
   "metadata": {},
   "outputs": [],
   "source": []
  },
  {
   "cell_type": "markdown",
   "id": "bba97c0e-9632-4e5e-b818-2725180b311b",
   "metadata": {},
   "source": [
    "| Pressure | Volume | Number of Moles | Temperature |\n",
    "|----------|--------|-----------------| ----------- |\n",
    "|**1013**  |**100** |                 | **30**      |\n",
    "|**850**   |        |**2164**         | **17**      |\n",
    "|          |**120** |**4826**         | **-10**     |\n",
    "|**300**   |**90**  |**1483**         |             |\n",
    "|**1000**  |**100** |**4000**         |             |\n",
    "|**850**   |**100** |**4000**         |             |\n",
    "|**500**   |**100** |**4000**         |             |\n",
    "|**300**   |**100** |**4000**         |             |"
   ]
  },
  {
   "cell_type": "markdown",
   "id": "9192f9f1-5abf-4194-b6d3-9b1a0284b9a9",
   "metadata": {},
   "source": [
    "<h1 align = 'center' style = 'font-size: xxx-large;'>\n",
    "Part 2 Dividing Numbers\n",
    "</h1>"
   ]
  },
  {
   "cell_type": "markdown",
   "id": "5fad2b60-6109-4548-af52-1539a97fb91c",
   "metadata": {},
   "source": [
    "|Table A|| Table B | |Table C|\n",
    "|---|--- |---|---|---|\n",
    "|9 / 4 evaluates to 2.25| --- |9 // 4 evaluates to 2| --- |9 % 4 evaluates to 1|\n",
    "|10 / 4 evaluates to 2.5| --- |10 // 4 evaluates to 2| --- |10 % 4 evaluates to 2|\n",
    "|11 / 4 evaluates to 2.75| --- |11 // 4 evaluates to 2| --- |11 % 4 evaluates to 3|\n",
    "|12 / 4 evaluates to 3.0| --- |12 // 4 evaluates to 3| --- |12 % 4 evaluates to 0|\n",
    "|13 / 4 evaluates to 3.25| --- |13 // 4 evaluates to 3| --- |13 % 4 evaluates to 1|\n",
    "|14 / 4 evaluates to 3.5| --- |14 // 4 evaluates to 3| --- |14 % 4 evaluates to 2|\n",
    "|15 / 4 evaluates to 3.75| --- |15 // 4 evaluates to 3| --- |15 % 4 evaluates to 3|\n",
    "|16 / 4 evaluates to 4.0| --- |16 // 4 evaluates to 4| --- |16 % 4 evaluates to 0|\n"
   ]
  },
  {
   "cell_type": "markdown",
   "id": "5d6211e1-9bc7-4ff9-b24f-de16ddeed2b3",
   "metadata": {},
   "source": [
    "# Questions"
   ]
  },
  {
   "cell_type": "markdown",
   "id": "23dc64b5-098d-4d1c-a5b3-3f471a36a3a7",
   "metadata": {},
   "source": [
    "#### 9. For each operator in Part 2, identify the symbol and describe the type of numerical result."
   ]
  },
  {
   "cell_type": "markdown",
   "id": "b931981b-8e78-42ca-943c-aed017f07c0c",
   "metadata": {},
   "source": []
  },
  {
   "cell_type": "markdown",
   "id": "b8211982-fab3-425a-ad45-68e57259cbb8",
   "metadata": {},
   "source": [
    "#### 10. If the result of the / operator were rounded to the nearest integer, would this be the same as the result of the // operator? Explain how the results in Table A compare to Table B."
   ]
  },
  {
   "cell_type": "markdown",
   "id": "33c01891-c0df-4fad-a7a5-8bc7fb270af7",
   "metadata": {},
   "source": []
  },
  {
   "cell_type": "markdown",
   "id": "51cb9243-54c4-4d7f-b3c8-b3aeb096f87f",
   "metadata": {},
   "source": [
    "#### 11. If the table included more rows, list all numbers // 4 would evaluate to 2 and all the numbers // 4 would evaluate to 4."
   ]
  },
  {
   "cell_type": "markdown",
   "id": "143f989e-f339-4537-a8a7-60532c3e0f68",
   "metadata": {},
   "source": []
  },
  {
   "cell_type": "markdown",
   "id": "b1cb0cef-48f9-471c-a706-349295887d8d",
   "metadata": {},
   "source": [
    "#### 12. Based on the results of Table C, propose another number % 4 evaluates to 0, and explain what all these numbers have in common."
   ]
  },
  {
   "cell_type": "markdown",
   "id": "2cc0ee29-d0b4-48ba-9a17-b596d8c284ca",
   "metadata": {},
   "source": []
  },
  {
   "cell_type": "markdown",
   "id": "418d15b2-64f5-4196-aba3-ccede356a87e",
   "metadata": {},
   "source": [
    "#### 13. Consider the expressions in Table C that evaluate to 1. How do the left operands in these expressions (i.e., 9, 13) differ from those that evaluate to 0?"
   ]
  },
  {
   "cell_type": "markdown",
   "id": "7d98a8f6-5279-4f0a-904e-bc7aa1fc4997",
   "metadata": {},
   "source": []
  },
  {
   "cell_type": "markdown",
   "id": "5e6b9cb3-b760-458a-be2b-be20395af19c",
   "metadata": {},
   "source": [
    "#### 14. Describe the reason for the repeated sequence of numbers (0, 1, 2, 3) for the result of % 4."
   ]
  },
  {
   "cell_type": "markdown",
   "id": "aa697505-0c0a-4f7b-94f7-e9d0e0917b5c",
   "metadata": {},
   "source": []
  },
  {
   "cell_type": "markdown",
   "id": "e77a6c0b-939a-4c9e-8371-f32f55dbb60c",
   "metadata": {},
   "source": [
    "#### 15. Recall how you learned to do long division in elementary school. Finish solving for 79 / 5 below. What is 79 / 5? Which part of the answer is 79 // 5, and which part is 79 % 5?"
   ]
  },
  {
   "cell_type": "markdown",
   "id": "f6105df0-15c8-463a-9d65-9ad5464d14c0",
   "metadata": {},
   "source": []
  },
  {
   "cell_type": "markdown",
   "id": "2475c0c8-434e-4884-b22f-c768cea6078c",
   "metadata": {},
   "source": [
    "#### 16. Imagine that you are given candy mints to divide evenly among you and two friends."
   ]
  },
  {
   "cell_type": "markdown",
   "id": "b18935c8-46fd-4233-9a7b-617c1050fd31",
   "metadata": {},
   "source": [
    " #### $\\;\\;\\;\\;\\;\\;$ a) If you receive 11 mints, how many mints would you and your friends each get, and how many are left over? Write a Python expression to compute each result."
   ]
  },
  {
   "cell_type": "code",
   "execution_count": null,
   "id": "c7a8cd0c-3c81-450f-b24e-955cfba567ed",
   "metadata": {},
   "outputs": [],
   "source": []
  },
  {
   "cell_type": "markdown",
   "id": "42ad934a-3418-4ac1-9659-6bb9b94f1ccc",
   "metadata": {},
   "source": []
  },
  {
   "cell_type": "markdown",
   "id": "f0af6d69-1c9b-4903-8ffa-909c02b8af9f",
   "metadata": {},
   "source": [
    "#### $\\;\\;\\;\\;\\;\\;$ b) If you receive 2 more mints, how many mints would you and your friends each get, and how many are left over? Write a Python expression to computes this result."
   ]
  },
  {
   "cell_type": "code",
   "execution_count": null,
   "id": "0e416b41-7f66-49c7-a25b-7a9a29d97a1a",
   "metadata": {},
   "outputs": [],
   "source": []
  },
  {
   "cell_type": "markdown",
   "id": "63b77554-b469-4f2f-9e9e-14828cd68f14",
   "metadata": {},
   "source": []
  },
  {
   "cell_type": "markdown",
   "id": "0612dbf3-ecff-43b9-b4f3-5cb8f5f0671d",
   "metadata": {},
   "source": [
    "#### 17. Python has three division operators: “floor division”, “remainder”, and “true division”. Which operator (symbol) corresponds to each name?"
   ]
  },
  {
   "cell_type": "markdown",
   "id": "9bbc3ccf-c2e4-4f39-a2dc-b523bda4cc6e",
   "metadata": {},
   "source": []
  },
  {
   "cell_type": "markdown",
   "id": "b383a2be-0bf4-47c1-9548-b3379cdfae2f",
   "metadata": {},
   "source": [
    "# Atmospheric Sciences Questions"
   ]
  },
  {
   "cell_type": "markdown",
   "id": "77641ef7-87ff-4a61-bd46-5bba533a97e7",
   "metadata": {},
   "source": [
    "#### Weather stations around the world collect information like temperature, pressure, humidity, wind speed, and widn direction amoung other things. Wind direction is typically recorded in degrees from 0 to 360. Occasionally, wind direction will be reported as being greater than 360 degrees. If you are ever working with a data set where this happens it is important to correct for this error. (North winds can be reported as 0 or 360)\n",
    "\n",
    "#### 3. Using one of the division operators, write a code to find the actual wind direction from 0 to 360 degrees and fill in the table with the correct wind directions. (Hint: you will need to do some multiplication and substraction after using one of the division operators)"
   ]
  },
  {
   "cell_type": "code",
   "execution_count": null,
   "id": "96bf19cd-3d70-4f9b-be1d-c7c7819db7e0",
   "metadata": {},
   "outputs": [],
   "source": []
  },
  {
   "cell_type": "markdown",
   "id": "fedfea3c-ec7f-4e9a-bd55-a964e3d13e0a",
   "metadata": {},
   "source": [
    "|Large Wind Direction| Actual Wind Direction|\n",
    "|--------------------|----------------------|\n",
    "|**720**             |                      |\n",
    "|**800**             |                      |\n",
    "|**1516**            |                      |\n",
    "|**1000**            |                      |\n",
    "|**7843**            |                      |\n",
    "|**1254**            |                      |"
   ]
  },
  {
   "cell_type": "markdown",
   "id": "76b0741e-af77-4c0a-a656-7bd542b9f5a1",
   "metadata": {},
   "source": [
    "<h1 align = 'center' style = 'font-size: xxx-large;'>\n",
    "Part 3 Integers and Floats\n",
    "</h1>"
   ]
  },
  {
   "cell_type": "markdown",
   "id": "e47c427a-4c8d-4893-9e15-f778421967fa",
   "metadata": {},
   "source": [
    "#### Each value in Python has a *data type* which determines what can be done with that data. Enter the following code, one line at a time, into the Jupyter Console. Record the output for each line (if any) in the second column."
   ]
  },
  {
   "cell_type": "markdown",
   "id": "e107ac4c-9099-4f65-8e40-e69318e15d2a",
   "metadata": {},
   "source": [
    "| Python Code          | Console Output   |\n",
    "|----------------------|------------------|\n",
    "| integer = 3          |                  |\n",
    "| type(integer)        |                  |\n",
    "| type(\"integer\")      |                  |\n",
    "| pi = 3.1415          |                  |\n",
    "| type(pi)             |                  |\n",
    "| word = str(pi)       |                  |\n",
    "| word                 |                  |\n",
    "| number = float(word) |                  |\n",
    "| print(word * 2)      |                  |\n",
    "| print(number * 2)    |                  |\n",
    "| print(word + 2)      |                  |\n",
    "| print(number + 2)    |                  |\n",
    "| euler = 2.7182       |                  |\n",
    "| int(euler)           |                  |\n",
    "| round(euler)         |                  |\n"
   ]
  },
  {
   "cell_type": "markdown",
   "id": "61e188ce-9d43-488a-809b-ac9256bc0bb0",
   "metadata": {},
   "source": [
    "# Questions"
   ]
  },
  {
   "cell_type": "markdown",
   "id": "f67e2595-2696-4330-a2bd-071bdd0b5d8a",
   "metadata": {},
   "source": [
    "#### 18. What is the data type (int, float, or str) of the following values? (Note: if you’re unsure, use the type function in the Jupyter Console.)\n",
    "#### $\\;\\;\\;\\;\\;\\;$ a) pi"
   ]
  },
  {
   "cell_type": "markdown",
   "id": "85aab4b3-aaff-49ab-8765-8b515a333cec",
   "metadata": {},
   "source": []
  },
  {
   "cell_type": "markdown",
   "id": "15120190-b3db-4751-a06e-8887ba835b98",
   "metadata": {},
   "source": [
    "#### $\\;\\;\\;\\;\\;\\;$ b) integer"
   ]
  },
  {
   "cell_type": "markdown",
   "id": "dbef3e93-3840-4f24-8694-9ce09f75f2e9",
   "metadata": {},
   "source": []
  },
  {
   "cell_type": "markdown",
   "id": "1232d255-4e89-43fa-b124-9548dc007185",
   "metadata": {},
   "source": [
    "#### $\\;\\;\\;\\;\\;\\;$ c) word"
   ]
  },
  {
   "cell_type": "markdown",
   "id": "30e1fb3e-1774-460e-84a3-c46c41f0a6fb",
   "metadata": {},
   "source": []
  },
  {
   "cell_type": "markdown",
   "id": "c91f5c7d-c813-4fa0-97fb-67d5e779bc93",
   "metadata": {},
   "source": [
    "#### $\\;\\;\\;\\;\\;\\;$ d) number"
   ]
  },
  {
   "cell_type": "markdown",
   "id": "9c754e9e-d801-433a-bd21-580f54048d57",
   "metadata": {},
   "source": [
    "#### 19. List the function calls that convert a value to a new data type."
   ]
  },
  {
   "cell_type": "markdown",
   "id": "f20e7fca-04aa-450b-98c4-41f84e057835",
   "metadata": {},
   "source": []
  },
  {
   "cell_type": "markdown",
   "id": "5034176e-9819-4597-9b87-b14fdac111c6",
   "metadata": {},
   "source": [
    "#### 20. How does the behavior of the operators (+ and *) depend on the data type?"
   ]
  },
  {
   "cell_type": "markdown",
   "id": "5ec58546-9693-41c1-acf9-e37f9e125955",
   "metadata": {},
   "source": []
  },
  {
   "cell_type": "markdown",
   "id": "3af1169b-cb18-447b-88dd-0dbdc890a78c",
   "metadata": {},
   "source": [
    "#### 21. What is the difference between the int function and the round function?"
   ]
  },
  {
   "cell_type": "markdown",
   "id": "36447510-25b8-40af-bf2b-75e70241f452",
   "metadata": {},
   "source": []
  },
  {
   "cell_type": "markdown",
   "id": "6eec4140-c7bc-4f91-bd63-ee43ff6f6a39",
   "metadata": {},
   "source": [
    "#### 22. What is the value of 3 + 3 + 3? What is the value of .3 + .3 + .3? If you enter these expressions into a Python Shell, what do you notice about the results?"
   ]
  },
  {
   "cell_type": "markdown",
   "id": "cbb4f9b6-7250-45af-944f-243c764703f8",
   "metadata": {},
   "source": []
  },
  {
   "cell_type": "markdown",
   "id": "95005249-e8eb-4440-b1a7-231df7dc8ce0",
   "metadata": {},
   "source": [
    "#### 23. In order to store a number with 100% accuracy, what data type is required? How might you precisely represent a bank account balance of $123.45?"
   ]
  },
  {
   "cell_type": "markdown",
   "id": "bb264c66-c59d-439f-b27c-77ca8f28974b",
   "metadata": {},
   "source": []
  },
  {
   "cell_type": "markdown",
   "id": "2c4cb0b1-2857-4ee4-9c92-2ee2c0f62d51",
   "metadata": {},
   "source": [
    "#### 24. Try calculating a very large integer in a Python Shell, for example, 123$^{456}$. Is there a limit to the integers that Python can handle?"
   ]
  },
  {
   "cell_type": "markdown",
   "id": "9060bba0-e406-4a86-a798-3cd8317767f5",
   "metadata": {},
   "source": []
  },
  {
   "cell_type": "markdown",
   "id": "dfc5f615-3217-410f-bba5-75cc18248885",
   "metadata": {},
   "source": [
    "#### 25. Try calculating a very large floating-point number in a Python Shell, for example, 123.0$^{456}$. Is there a limit to the floating-point numbers that Python can handle?"
   ]
  },
  {
   "cell_type": "markdown",
   "id": "ff2398b8-8b3b-4cab-b08d-4d4529661106",
   "metadata": {},
   "source": []
  },
  {
   "cell_type": "markdown",
   "id": "9bb2ed62-4d20-4bc9-b6bb-075bdba99084",
   "metadata": {},
   "source": [
    "#### 26. Summarize the difference between the numeric data types (int and float). What are their pros and cons?"
   ]
  },
  {
   "cell_type": "markdown",
   "id": "5869578f-e2c4-410c-9712-d60008d6df70",
   "metadata": {},
   "source": []
  },
  {
   "cell_type": "markdown",
   "id": "140c1221-35ea-401f-8fbb-3c3ccc681a7a",
   "metadata": {},
   "source": [
    "# Atmospheric Sciences Questions"
   ]
  },
  {
   "cell_type": "markdown",
   "id": "192e9c92-3896-40c2-a02d-a28771f8d6c1",
   "metadata": {},
   "source": [
    "#### 4. Identify which variables should be floats, ints, or strings in the table below. If you are unsure put * after your answer."
   ]
  },
  {
   "cell_type": "markdown",
   "id": "820ea38a-d964-4152-b398-9f0b941c85c4",
   "metadata": {},
   "source": [
    "|            Variable               |      Data Type      |\n",
    "|-----------------------------------|---------------------|\n",
    "|Temperature                        |                     |\n",
    "|Wind Speed                         |                     |\n",
    "|Humidity                           |                     |\n",
    "|Wind Direction (Degrees)           |                     |\n",
    "|Wind Direction (Cardinal Direction)|                     |\n",
    "|Pressure                           |                     |\n",
    "|Distance                           |                     |\n",
    "|Cloud Cover                        |                     |\n",
    "|Current Weather                    |                     |\n",
    "|Date                               |                     |"
   ]
  },
  {
   "cell_type": "code",
   "execution_count": null,
   "id": "d203b467-5fb0-4ef7-b282-59e8973a72ff",
   "metadata": {},
   "outputs": [],
   "source": []
  }
 ],
 "metadata": {
  "kernelspec": {
   "display_name": "Python 3 (ipykernel)",
   "language": "python",
   "name": "python3"
  },
  "language_info": {
   "codemirror_mode": {
    "name": "ipython",
    "version": 3
   },
   "file_extension": ".py",
   "mimetype": "text/x-python",
   "name": "python",
   "nbconvert_exporter": "python",
   "pygments_lexer": "ipython3",
   "version": "3.12.7"
  },
  "panel-cell-order": [
   "5734926f-3679-4cc0-8022-b4e8e96ac066",
   "12a0ab11-ce49-4cca-bd7e-3e12f2a95f82",
   "02123d38-c5c6-4b08-9738-53851d9f9ce4",
   "f7f79a5f-3364-4e74-bf6f-72cc1046e1c3",
   "a13264fc-80ac-4130-b864-36a276c8f500",
   "aa72156a-7a65-49dd-9d56-4e3ec09c840e",
   "1f356b7f-9d3b-4b53-b5ca-fb85a994d87c",
   "92bbcf30-52df-4154-99bf-9790180a31c8",
   "4ef5578b-cd9f-4c1e-83ee-edee5cc977bc",
   "de6f6ed8-fb61-4c67-97d3-60b601396974",
   "1875df62-bd4c-41f1-b022-3fd318fae5f0",
   "49e15c0b-0470-4375-8692-6205e5e4f187",
   "b5ecc7bf-515e-46ae-9158-53da9923e162"
  ]
 },
 "nbformat": 4,
 "nbformat_minor": 5
}
